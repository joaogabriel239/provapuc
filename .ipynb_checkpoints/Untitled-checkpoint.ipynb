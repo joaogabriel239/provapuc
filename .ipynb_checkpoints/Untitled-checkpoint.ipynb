{
 "cells": [
  {
   "cell_type": "code",
   "execution_count": 10,
   "id": "43ba863d-43d6-4a5e-a9c7-5ffd39cade45",
   "metadata": {},
   "outputs": [
    {
     "data": {
      "text/plain": [
       "'1.5.3'"
      ]
     },
     "execution_count": 10,
     "metadata": {},
     "output_type": "execute_result"
    }
   ],
   "source": [
    "import pandas\n",
    "pandas.__version__"
   ]
  },
  {
   "cell_type": "code",
   "execution_count": 11,
   "id": "95d7d18e-bfa6-43ad-96b0-fefcdfce23eb",
   "metadata": {},
   "outputs": [
    {
     "name": "stdout",
     "output_type": "stream",
     "text": [
      "Requirement already satisfied: pandas in c:\\users\\usuarios\\anaconda3\\lib\\site-packages (1.5.3)\n",
      "Requirement already satisfied: pytz>=2020.1 in c:\\users\\usuarios\\anaconda3\\lib\\site-packages (from pandas) (2022.7)\n",
      "Requirement already satisfied: python-dateutil>=2.8.1 in c:\\users\\usuarios\\anaconda3\\lib\\site-packages (from pandas) (2.8.2)\n",
      "Requirement already satisfied: numpy>=1.21.0 in c:\\users\\usuarios\\anaconda3\\lib\\site-packages (from pandas) (1.23.5)\n",
      "Requirement already satisfied: six>=1.5 in c:\\users\\usuarios\\anaconda3\\lib\\site-packages (from python-dateutil>=2.8.1->pandas) (1.16.0)\n"
     ]
    }
   ],
   "source": [
    "!pip install pandas"
   ]
  },
  {
   "cell_type": "code",
   "execution_count": 7,
   "id": "e9b1dd38-42fb-4874-bb31-6586e363d2ec",
   "metadata": {},
   "outputs": [
    {
     "data": {
      "text/html": [
       "<div>\n",
       "<style scoped>\n",
       "    .dataframe tbody tr th:only-of-type {\n",
       "        vertical-align: middle;\n",
       "    }\n",
       "\n",
       "    .dataframe tbody tr th {\n",
       "        vertical-align: top;\n",
       "    }\n",
       "\n",
       "    .dataframe thead th {\n",
       "        text-align: right;\n",
       "    }\n",
       "</style>\n",
       "<table border=\"1\" class=\"dataframe\">\n",
       "  <thead>\n",
       "    <tr style=\"text-align: right;\">\n",
       "      <th></th>\n",
       "      <th></th>\n",
       "      <th></th>\n",
       "      <th></th>\n",
       "      <th></th>\n",
       "      <th></th>\n",
       "      <th></th>\n",
       "      <th></th>\n",
       "      <th>Número de candidatos votados - prefeito</th>\n",
       "    </tr>\n",
       "  </thead>\n",
       "  <tbody>\n",
       "    <tr>\n",
       "      <th>Sigla</th>\n",
       "      <th>Código</th>\n",
       "      <th>Município</th>\n",
       "      <th>2004.0</th>\n",
       "      <th>2008.0</th>\n",
       "      <th>2012.0</th>\n",
       "      <th>2016.0</th>\n",
       "      <th>2020.0</th>\n",
       "      <td>NaN</td>\n",
       "    </tr>\n",
       "    <tr>\n",
       "      <th rowspan=\"4\" valign=\"top\">AC</th>\n",
       "      <th>1200013</th>\n",
       "      <th>Acrelândia</th>\n",
       "      <th>3.0</th>\n",
       "      <th>3.0</th>\n",
       "      <th>6.0</th>\n",
       "      <th>5.0</th>\n",
       "      <th>4.0</th>\n",
       "      <td>NaN</td>\n",
       "    </tr>\n",
       "    <tr>\n",
       "      <th>1200054</th>\n",
       "      <th>Assis Brasil</th>\n",
       "      <th>2.0</th>\n",
       "      <th>2.0</th>\n",
       "      <th>2.0</th>\n",
       "      <th>3.0</th>\n",
       "      <th>5.0</th>\n",
       "      <td>NaN</td>\n",
       "    </tr>\n",
       "    <tr>\n",
       "      <th>1200104</th>\n",
       "      <th>Brasiléia</th>\n",
       "      <th>2.0</th>\n",
       "      <th>3.0</th>\n",
       "      <th>4.0</th>\n",
       "      <th>2.0</th>\n",
       "      <th>3.0</th>\n",
       "      <td>NaN</td>\n",
       "    </tr>\n",
       "    <tr>\n",
       "      <th>1200138</th>\n",
       "      <th>Bujari</th>\n",
       "      <th>3.0</th>\n",
       "      <th>2.0</th>\n",
       "      <th>5.0</th>\n",
       "      <th>5.0</th>\n",
       "      <th>5.0</th>\n",
       "      <td>NaN</td>\n",
       "    </tr>\n",
       "  </tbody>\n",
       "</table>\n",
       "</div>"
      ],
      "text/plain": [
       "                                                               Número de candidatos votados - prefeito\n",
       "Sigla Código  Município    2004.0 2008.0 2012.0 2016.0 2020.0                                      NaN\n",
       "AC    1200013 Acrelândia   3.0    3.0    6.0    5.0    4.0                                         NaN\n",
       "      1200054 Assis Brasil 2.0    2.0    2.0    3.0    5.0                                         NaN\n",
       "      1200104 Brasiléia    2.0    3.0    4.0    2.0    3.0                                         NaN\n",
       "      1200138 Bujari       3.0    2.0    5.0    5.0    5.0                                         NaN"
      ]
     },
     "execution_count": 7,
     "metadata": {},
     "output_type": "execute_result"
    }
   ],
   "source": [
    "import pandas as pd\n",
    "\n",
    "arquivo = \"ipeadatacandidatos.csv\"\n",
    "df = pd.read_csv(arquivo, sep=';')\n",
    "df.head()"
   ]
  },
  {
   "cell_type": "code",
   "execution_count": 8,
   "id": "1b771d01-9e5f-4651-9d8a-86df069d5063",
   "metadata": {},
   "outputs": [],
   "source": [
    "def somar_numeros(num1, num2):\n",
    "    resultado = num1 + num2\n",
    "    return resultado"
   ]
  },
  {
   "cell_type": "code",
   "execution_count": 14,
   "id": "42d771a6-73c9-4304-9560-03b3d9764476",
   "metadata": {},
   "outputs": [
    {
     "name": "stdout",
     "output_type": "stream",
     "text": [
      "A soma dos candidatos de 2016 e 2020 é: 32\n"
     ]
    }
   ],
   "source": [
    "coluna2004 = 10\n",
    "coluna2008 = 10\n",
    "coluna2012 = 17\n",
    "coluna2016 = 15\n",
    "coluna2020 = 17\n",
    "\n",
    "soma = somar_numeros(coluna2016, coluna2020)\n",
    "print(\"A soma dos candidatos de 2016 e 2020 é:\",soma)"
   ]
  },
  {
   "cell_type": "code",
   "execution_count": 13,
   "id": "b5cda408-4641-4a1d-86a1-f9d407006c14",
   "metadata": {},
   "outputs": [
    {
     "name": "stdout",
     "output_type": "stream",
     "text": [
      "Os números de candidatos de uma eleição para a outra aumentou! diferença: 2\n"
     ]
    }
   ],
   "source": [
    "if coluna2016 < coluna2020:\n",
    "    print(\"Os números de candidatos de uma eleição para a outra aumentou!\",\"diferença:\",coluna2020-coluna2016)\n",
    "else:\n",
    "    print(\"Os números de candidatos diminuiu ou manteve o mesmo!\")"
   ]
  },
  {
   "cell_type": "code",
   "execution_count": null,
   "id": "823df0eb-1869-46bb-8e74-6d9f250fa313",
   "metadata": {},
   "outputs": [],
   "source": []
  }
 ],
 "metadata": {
  "kernelspec": {
   "display_name": "Python 3 (ipykernel)",
   "language": "python",
   "name": "python3"
  },
  "language_info": {
   "codemirror_mode": {
    "name": "ipython",
    "version": 3
   },
   "file_extension": ".py",
   "mimetype": "text/x-python",
   "name": "python",
   "nbconvert_exporter": "python",
   "pygments_lexer": "ipython3",
   "version": "3.10.9"
  }
 },
 "nbformat": 4,
 "nbformat_minor": 5
}
